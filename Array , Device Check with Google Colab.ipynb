{
  "cells": [
    {
      "cell_type": "code",
      "execution_count": 1,
      "metadata": {
        "id": "ivlhfa_c80UO"
      },
      "outputs": [],
      "source": [
        "import torch"
      ]
    },
    {
      "cell_type": "code",
      "execution_count": 2,
      "metadata": {
        "id": "P2UUxLTS87A0"
      },
      "outputs": [],
      "source": [
        "device ='cuda' if torch.cuda.is_available() else 'cpu'"
      ]
    },
    {
      "cell_type": "code",
      "execution_count": 3,
      "metadata": {
        "colab": {
          "base_uri": "https://localhost:8080/",
          "height": 35
        },
        "id": "_GoAsYrM9S_b",
        "outputId": "b6ca2873-fb12-4988-be88-cf0d1ef67eab"
      },
      "outputs": [
        {
          "data": {
            "application/vnd.google.colaboratory.intrinsic+json": {
              "type": "string"
            },
            "text/plain": [
              "'cuda'"
            ]
          },
          "execution_count": 3,
          "metadata": {},
          "output_type": "execute_result"
        }
      ],
      "source": [
        "device"
      ]
    },
    {
      "cell_type": "code",
      "execution_count": 4,
      "metadata": {
        "id": "x0Mlz6t99U2v"
      },
      "outputs": [],
      "source": [
        "#new array create\n",
        "newarray=torch.tensor([[1,2,3],[2,3,4]],dtype=torch.float32,device=device,requires_grad=True)"
      ]
    },
    {
      "cell_type": "code",
      "execution_count": 5,
      "metadata": {
        "colab": {
          "base_uri": "https://localhost:8080/"
        },
        "id": "ONwpIBtf9xpi",
        "outputId": "e9edfd40-a983-4370-d082-16c32239c2ec"
      },
      "outputs": [
        {
          "data": {
            "text/plain": [
              "tensor([[1., 2., 3.],\n",
              "        [2., 3., 4.]], device='cuda:0', requires_grad=True)"
            ]
          },
          "execution_count": 5,
          "metadata": {},
          "output_type": "execute_result"
        }
      ],
      "source": [
        "newarray"
      ]
    },
    {
      "cell_type": "code",
      "execution_count": 6,
      "metadata": {
        "colab": {
          "base_uri": "https://localhost:8080/"
        },
        "id": "juBYv6db-KNc",
        "outputId": "90f0904a-0fe3-4e7a-c272-a04658a32d96"
      },
      "outputs": [
        {
          "data": {
            "text/plain": [
              "torch.float32"
            ]
          },
          "execution_count": 6,
          "metadata": {},
          "output_type": "execute_result"
        }
      ],
      "source": [
        "newarray.dtype"
      ]
    },
    {
      "cell_type": "code",
      "execution_count": 7,
      "metadata": {
        "colab": {
          "base_uri": "https://localhost:8080/"
        },
        "id": "F1ouOC_z-Qhc",
        "outputId": "b5a57941-db94-47b8-8510-e90cbba7d19a"
      },
      "outputs": [
        {
          "data": {
            "text/plain": [
              "device(type='cuda', index=0)"
            ]
          },
          "execution_count": 7,
          "metadata": {},
          "output_type": "execute_result"
        }
      ],
      "source": [
        "newarray.device"
      ]
    },
    {
      "cell_type": "code",
      "execution_count": 8,
      "metadata": {
        "colab": {
          "base_uri": "https://localhost:8080/"
        },
        "id": "8bIB3zZa-TIa",
        "outputId": "31e4c1cc-a83e-4a8c-c6bd-bda41022754f"
      },
      "outputs": [
        {
          "data": {
            "text/plain": [
              "True"
            ]
          },
          "execution_count": 8,
          "metadata": {},
          "output_type": "execute_result"
        }
      ],
      "source": [
        "newarray.requires_grad"
      ]
    },
    {
      "cell_type": "markdown",
      "metadata": {
        "id": "VPmcl5m3-py3"
      },
      "source": [
        "# *Array*"
      ]
    },
    {
      "cell_type": "code",
      "execution_count": 9,
      "metadata": {
        "id": "uXGD2M6A-Vko"
      },
      "outputs": [],
      "source": [
        "#random array\n",
        "randomarray=torch.rand((2,3))"
      ]
    },
    {
      "cell_type": "code",
      "execution_count": 10,
      "metadata": {
        "colab": {
          "base_uri": "https://localhost:8080/"
        },
        "id": "85hFySXd-epl",
        "outputId": "28d0ab34-8bc0-4d24-968a-c240e6e3c605"
      },
      "outputs": [
        {
          "data": {
            "text/plain": [
              "tensor([[0.8581, 0.1606, 0.4638],\n",
              "        [0.4779, 0.3223, 0.3615]])"
            ]
          },
          "execution_count": 10,
          "metadata": {},
          "output_type": "execute_result"
        }
      ],
      "source": [
        "randomarray"
      ]
    },
    {
      "cell_type": "code",
      "execution_count": 11,
      "metadata": {
        "id": "odnn_-iM-oha"
      },
      "outputs": [],
      "source": [
        "#eyes array\n",
        "eyearray=torch.eye(3,3)"
      ]
    },
    {
      "cell_type": "code",
      "execution_count": 12,
      "metadata": {
        "colab": {
          "base_uri": "https://localhost:8080/"
        },
        "id": "ztlolsag_DtR",
        "outputId": "c90f4299-b027-48e9-d838-4abea0c47a6e"
      },
      "outputs": [
        {
          "data": {
            "text/plain": [
              "tensor([[1., 0., 0.],\n",
              "        [0., 1., 0.],\n",
              "        [0., 0., 1.]])"
            ]
          },
          "execution_count": 12,
          "metadata": {},
          "output_type": "execute_result"
        }
      ],
      "source": [
        "eyearray"
      ]
    },
    {
      "cell_type": "code",
      "execution_count": 13,
      "metadata": {
        "id": "oebF_Uiv_HSM"
      },
      "outputs": [],
      "source": [
        "#zero array\n",
        "zeroarray=torch.zeros((2,2))"
      ]
    },
    {
      "cell_type": "code",
      "execution_count": 14,
      "metadata": {
        "colab": {
          "base_uri": "https://localhost:8080/"
        },
        "id": "dPdVCSUZ_Xnq",
        "outputId": "086e9c5e-1d40-46f0-bad5-255cc1f1be51"
      },
      "outputs": [
        {
          "data": {
            "text/plain": [
              "tensor([[0., 0.],\n",
              "        [0., 0.]])"
            ]
          },
          "execution_count": 14,
          "metadata": {},
          "output_type": "execute_result"
        }
      ],
      "source": [
        "zeroarray"
      ]
    },
    {
      "cell_type": "code",
      "execution_count": 15,
      "metadata": {
        "id": "dJH5bnUS_Ydw"
      },
      "outputs": [],
      "source": [
        "#ones array\n",
        "onesarray=torch.ones((3,3))"
      ]
    },
    {
      "cell_type": "code",
      "execution_count": 16,
      "metadata": {
        "colab": {
          "base_uri": "https://localhost:8080/"
        },
        "id": "JpXbJt5c_gHe",
        "outputId": "d5e1bbb4-813b-43d7-8226-67a6c6f2fde4"
      },
      "outputs": [
        {
          "data": {
            "text/plain": [
              "tensor([[1., 1., 1.],\n",
              "        [1., 1., 1.],\n",
              "        [1., 1., 1.]])"
            ]
          },
          "execution_count": 16,
          "metadata": {},
          "output_type": "execute_result"
        }
      ],
      "source": [
        "onesarray"
      ]
    },
    {
      "cell_type": "code",
      "execution_count": 17,
      "metadata": {
        "id": "2oyy52S9_m7I"
      },
      "outputs": [],
      "source": [
        "#arrange array\n",
        "arrangearra=torch.arange(start=0,end=11,step=2)"
      ]
    },
    {
      "cell_type": "code",
      "execution_count": 18,
      "metadata": {
        "colab": {
          "base_uri": "https://localhost:8080/"
        },
        "id": "mqCa_vyu_hCl",
        "outputId": "a74684cf-fda4-4ced-85fa-1144d1d4da0c"
      },
      "outputs": [
        {
          "data": {
            "text/plain": [
              "tensor([ 0,  2,  4,  6,  8, 10])"
            ]
          },
          "execution_count": 18,
          "metadata": {},
          "output_type": "execute_result"
        }
      ],
      "source": [
        "arrangearra"
      ]
    },
    {
      "cell_type": "code",
      "execution_count": 19,
      "metadata": {
        "id": "qABmJ7V-_1Xf"
      },
      "outputs": [],
      "source": [
        "#linespace\n",
        "linespance=torch.linspace(start=0.1,end=5,steps=5)"
      ]
    },
    {
      "cell_type": "code",
      "execution_count": 20,
      "metadata": {
        "colab": {
          "base_uri": "https://localhost:8080/"
        },
        "id": "tSOZ_iz5AJwY",
        "outputId": "ebba8d0d-d28a-4b8d-e5f3-72405d937be9"
      },
      "outputs": [
        {
          "data": {
            "text/plain": [
              "tensor([0.1000, 1.3250, 2.5500, 3.7750, 5.0000])"
            ]
          },
          "execution_count": 20,
          "metadata": {},
          "output_type": "execute_result"
        }
      ],
      "source": [
        "linespance"
      ]
    },
    {
      "cell_type": "code",
      "execution_count": 21,
      "metadata": {
        "id": "VsOE46BwAK3S"
      },
      "outputs": [],
      "source": [
        "#tensor\n",
        "tensor=torch.arange(4)"
      ]
    },
    {
      "cell_type": "code",
      "execution_count": 22,
      "metadata": {
        "colab": {
          "base_uri": "https://localhost:8080/"
        },
        "id": "6IMtLT4YAXPg",
        "outputId": "e7090b15-8302-411d-ea0a-03d0a70422b7"
      },
      "outputs": [
        {
          "data": {
            "text/plain": [
              "tensor([0, 1, 2, 3])"
            ]
          },
          "execution_count": 22,
          "metadata": {},
          "output_type": "execute_result"
        }
      ],
      "source": [
        "tensor\n"
      ]
    },
    {
      "cell_type": "markdown",
      "metadata": {
        "id": "z5SwuF0vYWE5"
      },
      "source": [
        "# *Take two 4 dimension array and multiply them*"
      ]
    },
    {
      "cell_type": "code",
      "execution_count": 24,
      "metadata": {
        "colab": {
          "base_uri": "https://localhost:8080/"
        },
        "id": "oB4ZAkGaYuKp",
        "outputId": "ac14b476-97ff-4003-95db-a0d1e356ccdc"
      },
      "outputs": [
        {
          "data": {
            "text/plain": [
              "tensor([[0.7281, 0.4895, 0.8981, 0.3889],\n",
              "        [0.7916, 0.9143, 0.6675, 0.7807],\n",
              "        [0.1788, 0.9507, 0.2823, 0.2323],\n",
              "        [0.0778, 0.5555, 0.5934, 0.7563]])"
            ]
          },
          "execution_count": 24,
          "metadata": {},
          "output_type": "execute_result"
        }
      ],
      "source": [
        "#array1 x4\n",
        "x4=torch.rand((4,4),dtype=torch.float32)\n",
        "x4"
      ]
    },
    {
      "cell_type": "code",
      "execution_count": 25,
      "metadata": {
        "colab": {
          "base_uri": "https://localhost:8080/"
        },
        "id": "eBpCn5XLZJTZ",
        "outputId": "53b2e9d9-a849-4d39-e9be-08042fb8188e"
      },
      "outputs": [
        {
          "data": {
            "text/plain": [
              "tensor([[0.1721, 0.8328, 0.3409, 0.2039],\n",
              "        [0.3362, 0.7312, 0.8135, 0.8689],\n",
              "        [0.4295, 0.9668, 0.2497, 0.7448],\n",
              "        [0.7009, 0.4146, 0.6542, 0.4214]])"
            ]
          },
          "execution_count": 25,
          "metadata": {},
          "output_type": "execute_result"
        }
      ],
      "source": [
        "#array2 y4\n",
        "y4=torch.rand((4,4),dtype=torch.float32)\n",
        "y4"
      ]
    },
    {
      "cell_type": "code",
      "execution_count": 26,
      "metadata": {
        "colab": {
          "base_uri": "https://localhost:8080/"
        },
        "id": "wrdAD14QZT7J",
        "outputId": "f7c41315-64f7-4a70-a6b8-7491bf40b07a"
      },
      "outputs": [
        {
          "data": {
            "text/plain": [
              "tensor([[0.1253, 0.4076, 0.3061, 0.0793],\n",
              "        [0.2661, 0.6685, 0.5430, 0.6784],\n",
              "        [0.0768, 0.9192, 0.0705, 0.1730],\n",
              "        [0.0545, 0.2303, 0.3882, 0.3187]])"
            ]
          },
          "execution_count": 26,
          "metadata": {},
          "output_type": "execute_result"
        }
      ],
      "source": [
        "#multiply x4 and y4\n",
        "x4*y4"
      ]
    },
    {
      "cell_type": "code",
      "execution_count": 27,
      "metadata": {
        "id": "WTdtAirwZXvK"
      },
      "outputs": [],
      "source": [
        "#if y4=0\n",
        "y4=torch.zeros(4,4)"
      ]
    },
    {
      "cell_type": "code",
      "execution_count": 29,
      "metadata": {
        "colab": {
          "base_uri": "https://localhost:8080/"
        },
        "id": "l0eP3ZQSZuo4",
        "outputId": "72678244-ea15-4039-b33d-1c14cda1db00"
      },
      "outputs": [
        {
          "data": {
            "text/plain": [
              "tensor([[0., 0., 0., 0.],\n",
              "        [0., 0., 0., 0.],\n",
              "        [0., 0., 0., 0.],\n",
              "        [0., 0., 0., 0.]])"
            ]
          },
          "execution_count": 29,
          "metadata": {},
          "output_type": "execute_result"
        }
      ],
      "source": [
        "#result\n",
        "x4*y4"
      ]
    }
  ],
  "metadata": {
    "accelerator": "GPU",
    "colab": {
      "gpuType": "T4",
      "provenance": []
    },
    "kernelspec": {
      "display_name": "Python 3",
      "name": "python3"
    },
    "language_info": {
      "name": "python"
    }
  },
  "nbformat": 4,
  "nbformat_minor": 0
}
