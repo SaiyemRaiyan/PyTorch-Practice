{
  "cells": [
    {
      "cell_type": "code",
      "execution_count": 11,
      "metadata": {
        "id": "5qqY7DX7uE_1"
      },
      "outputs": [],
      "source": [
        "import torch"
      ]
    },
    {
      "cell_type": "markdown",
      "metadata": {
        "id": "x_mdY0BNuTyH"
      },
      "source": [
        "# ***Create Tensor***"
      ]
    },
    {
      "cell_type": "code",
      "execution_count": 4,
      "metadata": {
        "colab": {
          "base_uri": "https://localhost:8080/"
        },
        "id": "MoEkgoTEuTev",
        "outputId": "e32f0afb-65f4-47f9-bf02-7b25780bd958"
      },
      "outputs": [
        {
          "name": "stdout",
          "output_type": "stream",
          "text": [
            "tensor([ 0.0675, -0.6619,  0.0738])\n"
          ]
        }
      ],
      "source": [
        "x = torch.randn(3)\n",
        "print(x)"
      ]
    },
    {
      "cell_type": "code",
      "execution_count": 6,
      "metadata": {
        "colab": {
          "base_uri": "https://localhost:8080/"
        },
        "id": "5b_yZHaVun8f",
        "outputId": "c841ceb1-bc00-4197-827f-931c3fbcd8e4"
      },
      "outputs": [
        {
          "name": "stdout",
          "output_type": "stream",
          "text": [
            "tensor([-0.6027,  0.3371,  2.2096], requires_grad=True)\n"
          ]
        }
      ],
      "source": [
        "#Requires Gradient\n",
        "x = torch.randn(3, requires_grad=True)\n",
        "print(x)"
      ]
    },
    {
      "cell_type": "code",
      "execution_count": 8,
      "metadata": {
        "colab": {
          "base_uri": "https://localhost:8080/"
        },
        "id": "AvomPTvUuyz_",
        "outputId": "1342bc00-2caa-4de2-9d6e-5a3f141455c4"
      },
      "outputs": [
        {
          "name": "stdout",
          "output_type": "stream",
          "text": [
            "tensor([-0.7231, -0.6232, -0.4043], requires_grad=True)\n",
            "tensor([1.2769, 1.3768, 1.5957], grad_fn=<AddBackward0>)\n"
          ]
        }
      ],
      "source": [
        "#Adding with backpropagation\n",
        "x = torch.randn(3, requires_grad=True)\n",
        "print(x)\n",
        "\n",
        "y= x+2\n",
        "print(y)"
      ]
    },
    {
      "cell_type": "code",
      "execution_count": 10,
      "metadata": {
        "colab": {
          "base_uri": "https://localhost:8080/"
        },
        "id": "NDV8qEkhvsXo",
        "outputId": "dee542ef-2d07-49c0-ee71-8c0c7155e04d"
      },
      "outputs": [
        {
          "name": "stdout",
          "output_type": "stream",
          "text": [
            "tensor([ 1.5909, -0.2851, -1.6028], requires_grad=True)\n",
            "tensor([3.5909, 1.7149, 0.3972], grad_fn=<AddBackward0>)\n",
            "tensor(10.6619, grad_fn=<MeanBackward0>)\n"
          ]
        }
      ],
      "source": [
        "#Mean backward gradient function\n",
        "x = torch.randn(3, requires_grad=True)\n",
        "print(x)\n",
        "\n",
        "y= x+2\n",
        "print(y)\n",
        "\n",
        "z=y*y*2\n",
        "z= z.mean()\n",
        "print(z)"
      ]
    },
    {
      "cell_type": "code",
      "execution_count": 6,
      "metadata": {
        "colab": {
          "base_uri": "https://localhost:8080/"
        },
        "id": "V36e91M1v7c_",
        "outputId": "7fde6274-d26c-41e0-8917-6c7a4f3eb13c"
      },
      "outputs": [
        {
          "name": "stdout",
          "output_type": "stream",
          "text": [
            "tensor([-1.7688,  0.9635, -0.4635], requires_grad=True)\n",
            "tensor([0.2312, 2.9635, 1.5365], grad_fn=<AddBackward0>)\n",
            "tensor(7.4642, grad_fn=<MeanBackward0>)\n",
            "tensor([0.3082, 3.9513, 2.0487])\n"
          ]
        }
      ],
      "source": [
        "#Gradient of the tensors\n",
        "x = torch.randn(3, requires_grad=True)\n",
        "print(x)\n",
        "\n",
        "y= x+2\n",
        "print(y)\n",
        "\n",
        "z=y*y*2\n",
        "z= z.mean()\n",
        "print(z)\n",
        "\n",
        "z.backward() #dz/dx\n",
        "print(x.grad)"
      ]
    },
    {
      "cell_type": "markdown",
      "metadata": {
        "id": "4VeHu65vD0jV"
      },
      "source": [
        "***How we can stop by touch from creating this gradient functions***"
      ]
    },
    {
      "cell_type": "code",
      "execution_count": 9,
      "metadata": {
        "colab": {
          "base_uri": "https://localhost:8080/"
        },
        "id": "joa3YZ7YZ0Z3",
        "outputId": "75b981d0-e46c-44fa-df6b-bdcd21b5bde4"
      },
      "outputs": [
        {
          "name": "stdout",
          "output_type": "stream",
          "text": [
            "tensor([ 0.1824,  0.9654, -0.1044], requires_grad=True)\n",
            "tensor([ 0.1824,  0.9654, -0.1044])\n"
          ]
        }
      ],
      "source": [
        "#same value but doesn't require gradient\n",
        "x= torch.randn(3, requires_grad=True)\n",
        "print(x)\n",
        "\n",
        "#x.requires_grad_(False)\n",
        "#x.detach()\n",
        "#with torch.no_grad():\n",
        "y=x.detach()\n",
        "print(y)\n"
      ]
    },
    {
      "cell_type": "code",
      "execution_count": 12,
      "metadata": {
        "colab": {
          "base_uri": "https://localhost:8080/"
        },
        "id": "6tGKYewq0aBU",
        "outputId": "5e87aef9-c735-4cff-abcf-6b86bf49e134"
      },
      "outputs": [
        {
          "name": "stdout",
          "output_type": "stream",
          "text": [
            "tensor([2.1824, 2.9654, 1.8956])\n"
          ]
        }
      ],
      "source": [
        "with torch.no_grad():\n",
        "  y = x+2\n",
        "  print(y)"
      ]
    },
    {
      "cell_type": "code",
      "execution_count": 13,
      "metadata": {
        "colab": {
          "base_uri": "https://localhost:8080/"
        },
        "id": "SKcfDp3QEZST",
        "outputId": "81ddb350-f679-4af2-bcde-f9efa6faea12"
      },
      "outputs": [
        {
          "name": "stdout",
          "output_type": "stream",
          "text": [
            "tensor([3., 3., 3., 3.])\n"
          ]
        }
      ],
      "source": [
        "#Training Example\n",
        "\n",
        "weights = torch.ones(4, requires_grad=True)\n",
        "\n",
        "for epoch in range(1):\n",
        "  model_output = (weights*3).sum()\n",
        "\n",
        "  model_output.backward()\n",
        "print(weights.grad)\n"
      ]
    },
    {
      "cell_type": "code",
      "execution_count": 16,
      "metadata": {
        "colab": {
          "base_uri": "https://localhost:8080/"
        },
        "id": "heZ2aBvGE_9M",
        "outputId": "ada726f1-074b-4048-e7a0-eb27ad1d5dac"
      },
      "outputs": [
        {
          "name": "stdout",
          "output_type": "stream",
          "text": [
            "tensor([6., 6., 6., 6.])\n"
          ]
        }
      ],
      "source": [
        "#Iteration 2\n",
        "weights = torch.ones(4, requires_grad=True)\n",
        "\n",
        "for epoch in range(2):\n",
        "  model_output = (weights*3).sum()\n",
        "\n",
        "  model_output.backward()\n",
        "print(weights.grad)\n"
      ]
    },
    {
      "cell_type": "code",
      "execution_count": 19,
      "metadata": {
        "colab": {
          "base_uri": "https://localhost:8080/"
        },
        "id": "OpkKaXugFNWr",
        "outputId": "c1df940f-1bd9-413f-dee4-28ec76c45d94"
      },
      "outputs": [
        {
          "name": "stdout",
          "output_type": "stream",
          "text": [
            "tensor([9., 9., 9., 9.])\n"
          ]
        }
      ],
      "source": [
        "#Iteration 3\n",
        "weights = torch.ones(4, requires_grad=True)\n",
        "\n",
        "for epoch in range(3):\n",
        "  model_output = (weights*3).sum()\n",
        "\n",
        "  model_output.backward()\n",
        "print(weights.grad)"
      ]
    },
    {
      "cell_type": "code",
      "execution_count": 20,
      "metadata": {
        "colab": {
          "base_uri": "https://localhost:8080/"
        },
        "id": "_gokllLbFkIE",
        "outputId": "48f39ad8-a6e1-4af1-ce60-e8fabd884596"
      },
      "outputs": [
        {
          "name": "stdout",
          "output_type": "stream",
          "text": [
            "tensor([9., 9., 9., 9.])\n"
          ]
        },
        {
          "data": {
            "text/plain": [
              "tensor([0., 0., 0., 0.])"
            ]
          },
          "execution_count": 20,
          "metadata": {},
          "output_type": "execute_result"
        }
      ],
      "source": [
        "#Correct Gradients\n",
        "\n",
        "weights = torch.ones(4, requires_grad=True)\n",
        "\n",
        "for epoch in range(3):\n",
        "  model_output = (weights*3).sum()\n",
        "\n",
        "  model_output.backward()\n",
        "print(weights.grad)\n",
        "weights.grad.zero_()"
      ]
    }
  ],
  "metadata": {
    "colab": {
      "provenance": []
    },
    "kernelspec": {
      "display_name": "Python 3",
      "name": "python3"
    },
    "language_info": {
      "name": "python"
    }
  },
  "nbformat": 4,
  "nbformat_minor": 0
}
