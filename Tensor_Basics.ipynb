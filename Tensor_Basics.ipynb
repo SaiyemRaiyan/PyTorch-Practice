{
  "cells": [
    {
      "cell_type": "markdown",
      "metadata": {
        "id": "1XTdZSEHubgu"
      },
      "source": [
        "# ***Import Library***"
      ]
    },
    {
      "cell_type": "code",
      "execution_count": 2,
      "metadata": {
        "id": "mVcwg-t6BtsP"
      },
      "outputs": [],
      "source": [
        "import torch\n",
        "import numpy as np"
      ]
    },
    {
      "cell_type": "code",
      "execution_count": 13,
      "metadata": {
        "colab": {
          "base_uri": "https://localhost:8080/"
        },
        "id": "xCgQsCmoBx3U",
        "outputId": "b4a47ceb-5be3-4faa-9c8e-dd4b2a242b35"
      },
      "outputs": [
        {
          "name": "stdout",
          "output_type": "stream",
          "text": [
            "tensor([nan])\n"
          ]
        }
      ],
      "source": [
        "#empty tensor\n",
        "x= torch.empty(1)\n",
        "print(x)"
      ]
    },
    {
      "cell_type": "code",
      "execution_count": null,
      "metadata": {
        "colab": {
          "base_uri": "https://localhost:8080/"
        },
        "id": "5gaFcS9pCEz2",
        "outputId": "e9f4b1ce-7e5a-4038-8015-5b47c1c2f5f6"
      },
      "outputs": [
        {
          "name": "stdout",
          "output_type": "stream",
          "text": [
            "tensor([ 3.3631e-44,  0.0000e+00, -7.5866e-13])\n"
          ]
        }
      ],
      "source": [
        "#3 elements\n",
        "x= torch.empty(3)\n",
        "print(x)"
      ]
    },
    {
      "cell_type": "code",
      "execution_count": null,
      "metadata": {
        "colab": {
          "base_uri": "https://localhost:8080/"
        },
        "id": "D65xcuSlCLGl",
        "outputId": "6073f195-333c-4813-b226-d1440c031f92"
      },
      "outputs": [
        {
          "name": "stdout",
          "output_type": "stream",
          "text": [
            "tensor([[3.1458e+06, 3.2175e-41, 3.7828e+08],\n",
            "        [3.2175e-41, 8.9683e-44, 0.0000e+00]])\n"
          ]
        }
      ],
      "source": [
        "#2D\n",
        "x= torch.empty(2, 3)\n",
        "print(x)"
      ]
    },
    {
      "cell_type": "code",
      "execution_count": null,
      "metadata": {
        "colab": {
          "base_uri": "https://localhost:8080/"
        },
        "id": "zFA1GnRiCRhW",
        "outputId": "40b935b9-5ce0-45b3-cda8-f256ba1537e2"
      },
      "outputs": [
        {
          "name": "stdout",
          "output_type": "stream",
          "text": [
            "tensor([[[3.7822e+08, 3.2175e-41, 3.7901e+08],\n",
            "         [3.2175e-41, 8.9683e-44, 0.0000e+00]],\n",
            "\n",
            "        [[4.5447e+30, 7.0062e+22, 2.1707e-18],\n",
            "         [1.9284e+31, 3.2314e-18, 2.3592e-09]]])\n"
          ]
        }
      ],
      "source": [
        "#3D\n",
        "x= torch.empty(2,2,3)\n",
        "print(x)"
      ]
    },
    {
      "cell_type": "code",
      "execution_count": null,
      "metadata": {
        "colab": {
          "base_uri": "https://localhost:8080/"
        },
        "id": "oFqF4w9vCURk",
        "outputId": "9a004b3e-a168-4bfa-d1a5-0ed8a27be6fd"
      },
      "outputs": [
        {
          "name": "stdout",
          "output_type": "stream",
          "text": [
            "tensor([[0.9994, 0.1172],\n",
            "        [0.6582, 0.0627]])\n"
          ]
        }
      ],
      "source": [
        "#random values\n",
        "x = torch.rand(2,2)\n",
        "print(x)"
      ]
    },
    {
      "cell_type": "code",
      "execution_count": null,
      "metadata": {
        "id": "5dp_zhmlCyl9"
      },
      "outputs": [],
      "source": [
        "#zero 2D\n",
        "\n",
        "x=torch.ones(2,2)"
      ]
    },
    {
      "cell_type": "code",
      "execution_count": null,
      "metadata": {
        "colab": {
          "base_uri": "https://localhost:8080/"
        },
        "id": "-o50wbo7Hltd",
        "outputId": "3eac02a2-77b8-4c16-da91-d308b57f255c"
      },
      "outputs": [
        {
          "name": "stdout",
          "output_type": "stream",
          "text": [
            "tensor([[1., 1.],\n",
            "        [1., 1.]], dtype=torch.float64)\n"
          ]
        }
      ],
      "source": [
        "#data type show\n",
        "\n",
        "x= torch.ones(2,2,dtype=torch.double)\n",
        "print(x)"
      ]
    },
    {
      "cell_type": "code",
      "execution_count": null,
      "metadata": {
        "colab": {
          "base_uri": "https://localhost:8080/"
        },
        "id": "xlvHryKiIYKM",
        "outputId": "c0ffd88a-639c-45d2-a297-3dd673b8bf9a"
      },
      "outputs": [
        {
          "name": "stdout",
          "output_type": "stream",
          "text": [
            "torch.Size([2, 2])\n"
          ]
        }
      ],
      "source": [
        "#size\n",
        "x= torch.ones(2,2,dtype=torch.float16)\n",
        "print(x.size())"
      ]
    },
    {
      "cell_type": "code",
      "execution_count": null,
      "metadata": {
        "colab": {
          "base_uri": "https://localhost:8080/"
        },
        "id": "8dxI8mtQIgTC",
        "outputId": "c0fc9cd5-8976-4ceb-ec05-4b7cf77ed55a"
      },
      "outputs": [
        {
          "name": "stdout",
          "output_type": "stream",
          "text": [
            "tensor([2.5000, 0.1000])\n"
          ]
        }
      ],
      "source": [
        "#Tensor data\n",
        "\n",
        "x=torch.tensor([2.5, 0.1])\n",
        "print(x)"
      ]
    },
    {
      "cell_type": "markdown",
      "metadata": {
        "id": "vTDBFaaEIzIE"
      },
      "source": [
        "# ***Basic Operations***\n",
        "\n",
        "\n"
      ]
    },
    {
      "cell_type": "code",
      "execution_count": null,
      "metadata": {
        "colab": {
          "base_uri": "https://localhost:8080/"
        },
        "id": "JMt13kTRI_Ce",
        "outputId": "8911f417-dc67-40bb-f4dc-ff5757a14069"
      },
      "outputs": [
        {
          "name": "stdout",
          "output_type": "stream",
          "text": [
            "tensor([[0.8965, 0.0575],\n",
            "        [0.9406, 0.2247]])\n",
            "tensor([[0.0614, 0.8053],\n",
            "        [0.5103, 0.4302]])\n"
          ]
        }
      ],
      "source": [
        "#2 random values\n",
        "\n",
        "x = torch.rand(2,2)\n",
        "y = torch.rand(2,2)\n",
        "print(x)\n",
        "print(y)"
      ]
    },
    {
      "cell_type": "code",
      "execution_count": null,
      "metadata": {
        "colab": {
          "base_uri": "https://localhost:8080/"
        },
        "id": "I4jXihGjJYTu",
        "outputId": "261d9da9-dbd3-4848-c523-0a29d0ada5ba"
      },
      "outputs": [
        {
          "name": "stdout",
          "output_type": "stream",
          "text": [
            "tensor([[0.8825, 0.2091],\n",
            "        [0.1154, 0.0370]])\n",
            "tensor([[0.0559, 0.8449],\n",
            "        [0.9389, 0.6598]])\n",
            "tensor([[0.9384, 1.0540],\n",
            "        [1.0543, 0.6968]])\n"
          ]
        }
      ],
      "source": [
        "#2 random values + addition\n",
        "\n",
        "x = torch.rand(2,2)\n",
        "y = torch.rand(2,2)\n",
        "print(x)\n",
        "print(y)\n",
        "\n",
        "z=x+y #or z=torch.add(x,y)\n",
        "print(z)"
      ]
    },
    {
      "cell_type": "code",
      "execution_count": null,
      "metadata": {
        "colab": {
          "base_uri": "https://localhost:8080/"
        },
        "id": "gwX30x7wNZIp",
        "outputId": "7dfd9361-8718-4bbe-90b4-23051bb8db4e"
      },
      "outputs": [
        {
          "name": "stdout",
          "output_type": "stream",
          "text": [
            "tensor([[-0.0213,  0.7482],\n",
            "        [ 0.2777,  0.4371]])\n"
          ]
        }
      ],
      "source": [
        "#substraction\n",
        "x= torch.rand(2,2)\n",
        "y= torch.rand(2,2)\n",
        "\n",
        "z= x-y\n",
        "z= torch.sub(x,y)\n",
        "print(z)\n"
      ]
    },
    {
      "cell_type": "code",
      "execution_count": null,
      "metadata": {
        "colab": {
          "base_uri": "https://localhost:8080/"
        },
        "id": "sFiG5QnpNvDH",
        "outputId": "b27a1d05-f1f4-4f11-bc13-6d1272456441"
      },
      "outputs": [
        {
          "name": "stdout",
          "output_type": "stream",
          "text": [
            "tensor([[0.2733, 0.1153],\n",
            "        [0.3276, 0.4272]])\n"
          ]
        }
      ],
      "source": [
        "#multiplication\n",
        "x= torch.rand(2,2)\n",
        "y= torch.rand(2,2)\n",
        "\n",
        "z= x*y\n",
        "z= torch.mul(x,y)\n",
        "print(z)\n"
      ]
    },
    {
      "cell_type": "code",
      "execution_count": null,
      "metadata": {
        "colab": {
          "base_uri": "https://localhost:8080/"
        },
        "id": "R9o7AOddN9EP",
        "outputId": "feb00a60-32cb-439f-b173-f2f2ff16a585"
      },
      "outputs": [
        {
          "name": "stdout",
          "output_type": "stream",
          "text": [
            "tensor([[0.2055, 0.9010],\n",
            "        [0.3713, 0.3039]])\n"
          ]
        }
      ],
      "source": [
        "#division\n",
        "x= torch.rand(2,2)\n",
        "y= torch.rand(2,2)\n",
        "\n",
        "z= x/y\n",
        "z= torch.div(x,y)\n",
        "print(z)"
      ]
    },
    {
      "cell_type": "code",
      "execution_count": null,
      "metadata": {
        "colab": {
          "base_uri": "https://localhost:8080/"
        },
        "id": "P_wS_EoPOmkT",
        "outputId": "4ebf1956-26eb-4fd2-e7e5-d18256fe215c"
      },
      "outputs": [
        {
          "name": "stdout",
          "output_type": "stream",
          "text": [
            "tensor([[0.5245, 0.9976, 0.1671],\n",
            "        [0.9164, 0.1561, 0.2266],\n",
            "        [0.8346, 0.8976, 0.2103],\n",
            "        [0.2838, 0.4112, 0.6271],\n",
            "        [0.8156, 0.0910, 0.5473]])\n"
          ]
        }
      ],
      "source": [
        "#5*3 MATRIX\n",
        "x=torch.rand(5,3)\n",
        "print(x)"
      ]
    },
    {
      "cell_type": "code",
      "execution_count": 2,
      "metadata": {
        "colab": {
          "base_uri": "https://localhost:8080/"
        },
        "id": "BAhpsB0kq-jF",
        "outputId": "af010686-64a4-4663-9017-6270e1252a19"
      },
      "outputs": [
        {
          "name": "stdout",
          "output_type": "stream",
          "text": [
            "tensor([[0.0853, 0.4062, 0.4865],\n",
            "        [0.3774, 0.9645, 0.9691],\n",
            "        [0.6608, 0.1683, 0.3250],\n",
            "        [0.5250, 0.2456, 0.1007],\n",
            "        [0.7117, 0.1020, 0.3966]])\n",
            "tensor([0.0853, 0.3774, 0.6608, 0.5250, 0.7117])\n"
          ]
        }
      ],
      "source": [
        "#Print only first column of all the rows\n",
        "x = torch.rand(5,3)\n",
        "print(x)\n",
        "print(x[:,0])"
      ]
    },
    {
      "cell_type": "code",
      "execution_count": 3,
      "metadata": {
        "colab": {
          "base_uri": "https://localhost:8080/"
        },
        "id": "DSzptHZBrZb0",
        "outputId": "9cfe828d-4abe-47bd-9efa-0c35a4fb890c"
      },
      "outputs": [
        {
          "name": "stdout",
          "output_type": "stream",
          "text": [
            "tensor([[0.3685, 0.9064, 0.9709],\n",
            "        [0.3110, 0.9192, 0.5344],\n",
            "        [0.5504, 0.7250, 0.8958],\n",
            "        [0.3839, 0.2752, 0.7874],\n",
            "        [0.0569, 0.9192, 0.1801]])\n",
            "tensor([0.3110, 0.9192, 0.5344])\n"
          ]
        }
      ],
      "source": [
        "#Print row no. 1 of all columns\n",
        "x= torch.rand(5,3)\n",
        "print(x)\n",
        "print(x[1,:])"
      ]
    },
    {
      "cell_type": "code",
      "execution_count": 4,
      "metadata": {
        "colab": {
          "base_uri": "https://localhost:8080/"
        },
        "id": "mb7N5nP9r378",
        "outputId": "f183caec-8595-408a-f2b5-7a0e37c9a7dc"
      },
      "outputs": [
        {
          "name": "stdout",
          "output_type": "stream",
          "text": [
            "tensor([[0.7670, 0.3396, 0.9003],\n",
            "        [0.8958, 0.2317, 0.4047],\n",
            "        [0.3805, 0.7716, 0.6705],\n",
            "        [0.2470, 0.2310, 0.0157],\n",
            "        [0.6658, 0.4753, 0.2798]])\n",
            "tensor(0.2317)\n"
          ]
        }
      ],
      "source": [
        "#Print 1:1\n",
        "x= torch.rand(5,3)\n",
        "print(x)\n",
        "print(x[1,1])"
      ]
    },
    {
      "cell_type": "code",
      "execution_count": 5,
      "metadata": {
        "colab": {
          "base_uri": "https://localhost:8080/"
        },
        "id": "zw_AqY54r-qr",
        "outputId": "e5af8100-e26c-4048-83b8-0fb68362abca"
      },
      "outputs": [
        {
          "name": "stdout",
          "output_type": "stream",
          "text": [
            "tensor([[0.2490, 0.9675, 0.4638],\n",
            "        [0.5382, 0.9990, 0.8346],\n",
            "        [0.7419, 0.1980, 0.2470],\n",
            "        [0.6210, 0.3774, 0.2219],\n",
            "        [0.7451, 0.0859, 0.8273]])\n",
            "0.999015748500824\n"
          ]
        }
      ],
      "source": [
        "#Print 1:1 (Actual value)\n",
        "x= torch.rand(5,3)\n",
        "print(x)\n",
        "print(x[1,1].item())"
      ]
    },
    {
      "cell_type": "code",
      "execution_count": 6,
      "metadata": {
        "colab": {
          "base_uri": "https://localhost:8080/"
        },
        "id": "bLcgpVhQsKzd",
        "outputId": "4f4c3169-2f83-4372-e41d-38c37dd1a6ff"
      },
      "outputs": [
        {
          "name": "stdout",
          "output_type": "stream",
          "text": [
            "tensor([[0.0831, 0.7100, 0.2570, 0.8998],\n",
            "        [0.2881, 0.3957, 0.5272, 0.6656],\n",
            "        [0.7263, 0.4664, 0.5188, 0.6005],\n",
            "        [0.7361, 0.0928, 0.6418, 0.7076]])\n",
            "tensor([0.0831, 0.7100, 0.2570, 0.8998, 0.2881, 0.3957, 0.5272, 0.6656, 0.7263,\n",
            "        0.4664, 0.5188, 0.6005, 0.7361, 0.0928, 0.6418, 0.7076])\n"
          ]
        }
      ],
      "source": [
        "#Reshaping (All the values of the 4*4 matrix)\n",
        "\n",
        "x = torch.rand(4,4)\n",
        "print(x)\n",
        "y = x.view(16)\n",
        "print(y)"
      ]
    },
    {
      "cell_type": "code",
      "execution_count": 7,
      "metadata": {
        "colab": {
          "base_uri": "https://localhost:8080/"
        },
        "id": "xWLP8qACsyfk",
        "outputId": "3acfc182-592b-459e-eac9-bcc3e9012372"
      },
      "outputs": [
        {
          "name": "stdout",
          "output_type": "stream",
          "text": [
            "tensor([[0.2470, 0.2712, 0.6828, 0.1985],\n",
            "        [0.4773, 0.5751, 0.0451, 0.9249],\n",
            "        [0.5562, 0.4954, 0.5343, 0.8004],\n",
            "        [0.0024, 0.1484, 0.2208, 0.7044]])\n",
            "torch.Size([2, 8])\n"
          ]
        }
      ],
      "source": [
        "#Resize Tensor\n",
        "\n",
        "x = torch.rand(4,4)\n",
        "print(x)\n",
        "y = x.view(-1,8)\n",
        "print(y.size())"
      ]
    },
    {
      "cell_type": "markdown",
      "metadata": {
        "id": "YLQq8bPpt2q7"
      },
      "source": [
        "# ***numpy to torch tensor and vice versa***"
      ]
    },
    {
      "cell_type": "code",
      "execution_count": 3,
      "metadata": {
        "colab": {
          "base_uri": "https://localhost:8080/"
        },
        "id": "HXP3HZSZtHDb",
        "outputId": "5300bb0f-1e7d-43a4-81ad-3543c9c72544"
      },
      "outputs": [
        {
          "name": "stdout",
          "output_type": "stream",
          "text": [
            "tensor([1., 1., 1., 1., 1.])\n",
            "[1. 1. 1. 1. 1.]\n"
          ]
        }
      ],
      "source": [
        "#numpy to torch tensor and vice versa\n",
        "x=torch.ones(5)\n",
        "print(x)\n",
        "y= x.numpy()\n",
        "print(y)"
      ]
    },
    {
      "cell_type": "code",
      "execution_count": 4,
      "metadata": {
        "colab": {
          "base_uri": "https://localhost:8080/"
        },
        "id": "uf_-dRJltwdM",
        "outputId": "d5889cb2-5ef9-4e6d-cce4-80a319bad69a"
      },
      "outputs": [
        {
          "name": "stdout",
          "output_type": "stream",
          "text": [
            "tensor([1., 1., 1., 1., 1.])\n",
            "[1. 1. 1. 1. 1.]\n",
            "tensor([2., 2., 2., 2., 2.])\n",
            "[2. 2. 2. 2. 2.]\n"
          ]
        }
      ],
      "source": [
        "#adding 1 with elemenets\n",
        "x=torch.ones(5)\n",
        "print(x)\n",
        "y= x.numpy()\n",
        "print(y)\n",
        "\n",
        "x.add_(1) #Underscore means adding 1 with all elements\n",
        "print(x)\n",
        "print(y)"
      ]
    },
    {
      "cell_type": "code",
      "execution_count": 6,
      "metadata": {
        "colab": {
          "base_uri": "https://localhost:8080/"
        },
        "id": "vtujbfrPmS3o",
        "outputId": "aeb080a7-a297-421e-a136-5ab0b486bad0"
      },
      "outputs": [
        {
          "name": "stdout",
          "output_type": "stream",
          "text": [
            "[1. 1. 1. 1. 1.]\n",
            "tensor([1., 1., 1., 1., 1.], dtype=torch.float64)\n"
          ]
        }
      ],
      "source": [
        "#datatype showing\n",
        "x = np.ones(5)\n",
        "print(x)\n",
        "y= torch.from_numpy(x)\n",
        "print(y)"
      ]
    },
    {
      "cell_type": "code",
      "execution_count": 8,
      "metadata": {
        "colab": {
          "base_uri": "https://localhost:8080/"
        },
        "id": "KKEdJu9im-l8",
        "outputId": "a0ae2616-4de1-4237-8c56-fa30191bcdc9"
      },
      "outputs": [
        {
          "name": "stdout",
          "output_type": "stream",
          "text": [
            "[1. 1. 1. 1. 1.]\n",
            "tensor([1., 1., 1., 1., 1.], dtype=torch.float64)\n",
            "[2. 2. 2. 2. 2.]\n",
            "tensor([2., 2., 2., 2., 2.], dtype=torch.float64)\n"
          ]
        }
      ],
      "source": [
        "#datatype showing (modify by adding +1)\n",
        "x = np.ones(5)\n",
        "print(x)\n",
        "y= torch.from_numpy(x)\n",
        "print(y)\n",
        "\n",
        "x+=1\n",
        "print(x)\n",
        "print(y)"
      ]
    },
    {
      "cell_type": "code",
      "execution_count": 10,
      "metadata": {
        "colab": {
          "base_uri": "https://localhost:8080/"
        },
        "id": "DLbZNn1MnPUK",
        "outputId": "7d5da70c-db42-48e1-f234-f42efa4aa452"
      },
      "outputs": [
        {
          "name": "stdout",
          "output_type": "stream",
          "text": [
            "tensor([2., 2., 2., 2., 2.])\n"
          ]
        }
      ],
      "source": [
        "#Cuda toolkit\n",
        "if torch.cuda.is_available():\n",
        "  device = torch.device(\"cuda\")\n",
        "  x = torch.ones(5, device=device)\n",
        "  y = torch.ones(5)\n",
        "  y = y.to(device)\n",
        "  z = x+y\n",
        "  z = z.to(\"cpu\")\n",
        "  print(z)"
      ]
    },
    {
      "cell_type": "markdown",
      "metadata": {
        "id": "e1kOwF4-oQph"
      },
      "source": [
        "# ***Calculate gradient for tensors***"
      ]
    },
    {
      "cell_type": "code",
      "execution_count": 12,
      "metadata": {
        "colab": {
          "base_uri": "https://localhost:8080/"
        },
        "id": "j0olZuZGoDzS",
        "outputId": "418341d4-ab6c-44ff-a06c-f6d9fbeae824"
      },
      "outputs": [
        {
          "name": "stdout",
          "output_type": "stream",
          "text": [
            "tensor([1., 1., 1., 1., 1.], requires_grad=True)\n"
          ]
        }
      ],
      "source": [
        "x= torch.ones(5, requires_grad=True)\n",
        "print(x)"
      ]
    }
  ],
  "metadata": {
    "accelerator": "GPU",
    "colab": {
      "gpuType": "T4",
      "provenance": []
    },
    "kernelspec": {
      "display_name": "Python 3",
      "name": "python3"
    },
    "language_info": {
      "name": "python"
    }
  },
  "nbformat": 4,
  "nbformat_minor": 0
}
