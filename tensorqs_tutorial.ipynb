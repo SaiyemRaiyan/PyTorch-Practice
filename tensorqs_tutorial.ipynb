{
  "nbformat": 4,
  "nbformat_minor": 0,
  "metadata": {
    "colab": {
      "provenance": [],
      "gpuType": "T4"
    },
    "kernelspec": {
      "name": "python3",
      "display_name": "Python 3"
    },
    "language_info": {
      "name": "python"
    },
    "accelerator": "GPU"
  },
  "cells": [
    {
      "cell_type": "code",
      "execution_count": 1,
      "metadata": {
        "id": "8-wq_rfcsQYm"
      },
      "outputs": [],
      "source": [
        "import torch\n",
        "import numpy as np"
      ]
    },
    {
      "cell_type": "markdown",
      "source": [
        "# ***Initialize Tensor***"
      ],
      "metadata": {
        "id": "mxYILT5gtDF4"
      }
    },
    {
      "cell_type": "code",
      "source": [
        "#list\n",
        "data = [[1,2],[3,4]]\n",
        "x_data = torch.tensor(data) #convert in tensor\n",
        "x_data #object lookup"
      ],
      "metadata": {
        "colab": {
          "base_uri": "https://localhost:8080/"
        },
        "id": "rZrAXBDKtCTx",
        "outputId": "7363f676-7a56-43e6-853b-75b1496023f7"
      },
      "execution_count": null,
      "outputs": [
        {
          "output_type": "execute_result",
          "data": {
            "text/plain": [
              "tensor([[1, 2],\n",
              "        [3, 4]])"
            ]
          },
          "metadata": {},
          "execution_count": 5
        }
      ]
    },
    {
      "cell_type": "markdown",
      "source": [
        "# **From numpy array**"
      ],
      "metadata": {
        "id": "xvD1S0mTuHGC"
      }
    },
    {
      "cell_type": "code",
      "source": [
        "np_array = np.array(data)\n",
        "np_array"
      ],
      "metadata": {
        "colab": {
          "base_uri": "https://localhost:8080/"
        },
        "id": "Z4ITJICctHTg",
        "outputId": "e1fa0f8e-552c-4ea5-f9cf-02f297669d9d"
      },
      "execution_count": null,
      "outputs": [
        {
          "output_type": "execute_result",
          "data": {
            "text/plain": [
              "array([[1, 2],\n",
              "       [3, 4]])"
            ]
          },
          "metadata": {},
          "execution_count": 7
        }
      ]
    },
    {
      "cell_type": "code",
      "source": [
        "#n dimensional array\n",
        "np_array = np.array(data)\n",
        "x_np = torch.from_numpy(np_array) #numpy to tensor\n",
        "type(np_array)"
      ],
      "metadata": {
        "colab": {
          "base_uri": "https://localhost:8080/"
        },
        "id": "rsVAt7TJz52u",
        "outputId": "0966d109-3276-456e-cd22-69a1951d2482"
      },
      "execution_count": null,
      "outputs": [
        {
          "output_type": "execute_result",
          "data": {
            "text/plain": [
              "numpy.ndarray"
            ]
          },
          "metadata": {},
          "execution_count": 8
        }
      ]
    },
    {
      "cell_type": "code",
      "source": [
        "#Initialize from another tensor\n",
        "#2D array with 1\n",
        "x_ones = torch.ones_like(x_data)\n",
        "x_ones"
      ],
      "metadata": {
        "colab": {
          "base_uri": "https://localhost:8080/"
        },
        "id": "aB0m6-Uc0LPs",
        "outputId": "227fbbf4-e5d9-4eb4-b3f1-b34034b3d8d6"
      },
      "execution_count": null,
      "outputs": [
        {
          "output_type": "execute_result",
          "data": {
            "text/plain": [
              "tensor([[1, 1],\n",
              "        [1, 1]])"
            ]
          },
          "metadata": {},
          "execution_count": 9
        }
      ]
    },
    {
      "cell_type": "code",
      "source": [
        "#random number\n",
        "x_ones = torch.ones_like(x_data)\n",
        "x_rand = torch.rand_like(x_data,dtype=torch.float)\n",
        "x_rand"
      ],
      "metadata": {
        "colab": {
          "base_uri": "https://localhost:8080/"
        },
        "id": "-L7E2rf85yjv",
        "outputId": "458e05e1-381d-4501-e352-95c33b0e7a40"
      },
      "execution_count": null,
      "outputs": [
        {
          "output_type": "execute_result",
          "data": {
            "text/plain": [
              "tensor([[0.5532, 0.9356],\n",
              "        [0.2901, 0.3725]])"
            ]
          },
          "metadata": {},
          "execution_count": 12
        }
      ]
    },
    {
      "cell_type": "code",
      "source": [
        "shape = (3,5)\n",
        "rand_tensor = torch.rand(shape)\n",
        "\n",
        "rand_tensor"
      ],
      "metadata": {
        "colab": {
          "base_uri": "https://localhost:8080/"
        },
        "id": "5j2YxTCk6XUl",
        "outputId": "7b16872c-22b0-4406-b081-592add4a31f8"
      },
      "execution_count": null,
      "outputs": [
        {
          "output_type": "execute_result",
          "data": {
            "text/plain": [
              "tensor([[0.9460, 0.8643, 0.1436, 0.3698, 0.0583],\n",
              "        [0.3861, 0.2622, 0.4698, 0.3401, 0.3825],\n",
              "        [0.2026, 0.4672, 0.3289, 0.8134, 0.1641]])"
            ]
          },
          "metadata": {},
          "execution_count": 15
        }
      ]
    },
    {
      "cell_type": "code",
      "source": [
        "#initialize in 1's\n",
        "shape = (3,5)\n",
        "rand_tensor = torch.rand(shape)\n",
        "ones_tensor = torch.ones(shape)\n",
        "\n",
        "ones_tensor"
      ],
      "metadata": {
        "colab": {
          "base_uri": "https://localhost:8080/"
        },
        "id": "7gFDRwRK6sNC",
        "outputId": "43de6dc3-1707-48d7-db5b-5bc1871205f3"
      },
      "execution_count": null,
      "outputs": [
        {
          "output_type": "execute_result",
          "data": {
            "text/plain": [
              "tensor([[1., 1., 1., 1., 1.],\n",
              "        [1., 1., 1., 1., 1.],\n",
              "        [1., 1., 1., 1., 1.]])"
            ]
          },
          "metadata": {},
          "execution_count": 17
        }
      ]
    },
    {
      "cell_type": "code",
      "source": [
        "#initialize in 0's\n",
        "shape = (3,5)\n",
        "rand_tensor = torch.rand(shape)\n",
        "zeros_tensor = torch.zeros(shape)\n",
        "\n",
        "zeros_tensor"
      ],
      "metadata": {
        "colab": {
          "base_uri": "https://localhost:8080/"
        },
        "id": "VATy3TaE66Kh",
        "outputId": "36c72993-5f1f-41a6-a979-18d6550e6228"
      },
      "execution_count": null,
      "outputs": [
        {
          "output_type": "execute_result",
          "data": {
            "text/plain": [
              "tensor([[0., 0., 0., 0., 0.],\n",
              "        [0., 0., 0., 0., 0.],\n",
              "        [0., 0., 0., 0., 0.]])"
            ]
          },
          "metadata": {},
          "execution_count": 20
        }
      ]
    },
    {
      "cell_type": "markdown",
      "source": [
        "# ***Attributes of a Tensor***"
      ],
      "metadata": {
        "id": "qVvYKMI07T24"
      }
    },
    {
      "cell_type": "code",
      "source": [
        "tensor = torch.rand(5,7)\n",
        "tensor.device"
      ],
      "metadata": {
        "colab": {
          "base_uri": "https://localhost:8080/"
        },
        "id": "_M5_9_Sw7Xqp",
        "outputId": "0c384f54-2da4-4c7d-aa91-0625835fe05c"
      },
      "execution_count": 2,
      "outputs": [
        {
          "output_type": "execute_result",
          "data": {
            "text/plain": [
              "device(type='cpu')"
            ]
          },
          "metadata": {},
          "execution_count": 2
        }
      ]
    },
    {
      "cell_type": "markdown",
      "source": [
        "# ***Operations of tensors***"
      ],
      "metadata": {
        "id": "8DgrnsF57lRR"
      }
    },
    {
      "cell_type": "code",
      "source": [
        "device = 'cpu'\n",
        "if torch.cuda.is_available():\n",
        "    device = 'cuda'\n",
        "device"
      ],
      "metadata": {
        "colab": {
          "base_uri": "https://localhost:8080/",
          "height": 35
        },
        "id": "BbmByfQ37k_Q",
        "outputId": "0302225e-5330-4cef-d945-54ddbf70d242"
      },
      "execution_count": 3,
      "outputs": [
        {
          "output_type": "execute_result",
          "data": {
            "text/plain": [
              "'cuda'"
            ],
            "application/vnd.google.colaboratory.intrinsic+json": {
              "type": "string"
            }
          },
          "metadata": {},
          "execution_count": 3
        }
      ]
    },
    {
      "cell_type": "code",
      "source": [
        "tensor = torch.rand(5,7)\n",
        "print(tensor.device)\n",
        "tensor = tensor.to(device)\n",
        "print(tensor.device)"
      ],
      "metadata": {
        "colab": {
          "base_uri": "https://localhost:8080/"
        },
        "id": "ALLxOpxyFjLM",
        "outputId": "93fe8299-e871-4a1a-9827-501d62a669c7"
      },
      "execution_count": 4,
      "outputs": [
        {
          "output_type": "stream",
          "name": "stdout",
          "text": [
            "cpu\n",
            "cuda:0\n"
          ]
        }
      ]
    },
    {
      "cell_type": "code",
      "source": [
        "#standard numpy-like indexing and slicing:\n",
        "tensor = torch.rand(5,7)\n",
        "tensor = tensor.to(device)\n",
        "\n",
        "print(tensor)\n",
        "print(tensor[:,0])"
      ],
      "metadata": {
        "colab": {
          "base_uri": "https://localhost:8080/"
        },
        "id": "C8QIgMHCGPuh",
        "outputId": "37b21666-8798-4baa-d50e-eddeb8962481"
      },
      "execution_count": 5,
      "outputs": [
        {
          "output_type": "stream",
          "name": "stdout",
          "text": [
            "tensor([[0.3482, 0.4376, 0.3442, 0.9032, 0.1666, 0.9878, 0.1325],\n",
            "        [0.2760, 0.7601, 0.6519, 0.9442, 0.5452, 0.0956, 0.9264],\n",
            "        [0.0892, 0.8619, 0.2184, 0.8961, 0.4670, 0.0850, 0.1576],\n",
            "        [0.5530, 0.8319, 0.0919, 0.2493, 0.5181, 0.7789, 0.1865],\n",
            "        [0.0995, 0.0132, 0.2368, 0.8860, 0.3898, 0.5012, 0.3953]],\n",
            "       device='cuda:0')\n",
            "tensor([0.3482, 0.2760, 0.0892, 0.5530, 0.0995], device='cuda:0')\n"
          ]
        }
      ]
    },
    {
      "cell_type": "code",
      "source": [
        "#check the last column\n",
        "tensor = torch.rand(5,7)\n",
        "tensor = tensor.to(device)\n",
        "\n",
        "print(tensor)\n",
        "print(tensor[:,-1])"
      ],
      "metadata": {
        "colab": {
          "base_uri": "https://localhost:8080/"
        },
        "id": "GY8nZRVqG4yK",
        "outputId": "d280493a-29b2-4020-9bd9-e0bfd05c3868"
      },
      "execution_count": 6,
      "outputs": [
        {
          "output_type": "stream",
          "name": "stdout",
          "text": [
            "tensor([[0.6490, 0.5064, 0.4304, 0.7809, 0.9722, 0.3133, 0.1405],\n",
            "        [0.5837, 0.7631, 0.5909, 0.8367, 0.2762, 0.8227, 0.2728],\n",
            "        [0.3704, 0.8872, 0.8393, 0.6311, 0.0694, 0.2588, 0.7297],\n",
            "        [0.7201, 0.8896, 0.7533, 0.7865, 0.6871, 0.3177, 0.7794],\n",
            "        [0.5022, 0.2240, 0.1796, 0.0763, 0.3637, 0.0327, 0.8018]],\n",
            "       device='cuda:0')\n",
            "tensor([0.1405, 0.2728, 0.7297, 0.7794, 0.8018], device='cuda:0')\n"
          ]
        }
      ]
    },
    {
      "cell_type": "code",
      "source": [
        "#concatenate\n",
        "t1 = torch.cat([tensor,tensor])\n",
        "t1"
      ],
      "metadata": {
        "colab": {
          "base_uri": "https://localhost:8080/"
        },
        "id": "L5QGwCXMHAl0",
        "outputId": "ebcd7e10-2a1e-4d0c-eeae-9229ab9d3420"
      },
      "execution_count": null,
      "outputs": [
        {
          "output_type": "execute_result",
          "data": {
            "text/plain": [
              "tensor([[0.3997, 0.5951, 0.5661, 0.8953, 0.1826, 0.5693, 0.2010],\n",
              "        [0.4515, 0.4324, 0.3541, 0.3093, 0.5065, 0.6188, 0.2166],\n",
              "        [0.9401, 0.2479, 0.4617, 0.1112, 0.1550, 0.9328, 0.0825],\n",
              "        [0.3814, 0.0078, 0.1915, 0.9628, 0.5383, 0.6886, 0.1747],\n",
              "        [0.8901, 0.6594, 0.6485, 0.7899, 0.5761, 0.6093, 0.7770],\n",
              "        [0.3997, 0.5951, 0.5661, 0.8953, 0.1826, 0.5693, 0.2010],\n",
              "        [0.4515, 0.4324, 0.3541, 0.3093, 0.5065, 0.6188, 0.2166],\n",
              "        [0.9401, 0.2479, 0.4617, 0.1112, 0.1550, 0.9328, 0.0825],\n",
              "        [0.3814, 0.0078, 0.1915, 0.9628, 0.5383, 0.6886, 0.1747],\n",
              "        [0.8901, 0.6594, 0.6485, 0.7899, 0.5761, 0.6093, 0.7770]])"
            ]
          },
          "metadata": {},
          "execution_count": 32
        }
      ]
    },
    {
      "cell_type": "code",
      "source": [
        "#dimension define concatenate\n",
        "t1 = torch.cat([tensor,tensor], dim=1)\n",
        "t1"
      ],
      "metadata": {
        "colab": {
          "base_uri": "https://localhost:8080/"
        },
        "id": "zqzY1knfHLFZ",
        "outputId": "eac54f00-92ec-4653-b997-a216a214ab99"
      },
      "execution_count": null,
      "outputs": [
        {
          "output_type": "execute_result",
          "data": {
            "text/plain": [
              "tensor([[0.3997, 0.5951, 0.5661, 0.8953, 0.1826, 0.5693, 0.2010, 0.3997, 0.5951,\n",
              "         0.5661, 0.8953, 0.1826, 0.5693, 0.2010],\n",
              "        [0.4515, 0.4324, 0.3541, 0.3093, 0.5065, 0.6188, 0.2166, 0.4515, 0.4324,\n",
              "         0.3541, 0.3093, 0.5065, 0.6188, 0.2166],\n",
              "        [0.9401, 0.2479, 0.4617, 0.1112, 0.1550, 0.9328, 0.0825, 0.9401, 0.2479,\n",
              "         0.4617, 0.1112, 0.1550, 0.9328, 0.0825],\n",
              "        [0.3814, 0.0078, 0.1915, 0.9628, 0.5383, 0.6886, 0.1747, 0.3814, 0.0078,\n",
              "         0.1915, 0.9628, 0.5383, 0.6886, 0.1747],\n",
              "        [0.8901, 0.6594, 0.6485, 0.7899, 0.5761, 0.6093, 0.7770, 0.8901, 0.6594,\n",
              "         0.6485, 0.7899, 0.5761, 0.6093, 0.7770]])"
            ]
          },
          "metadata": {},
          "execution_count": 34
        }
      ]
    },
    {
      "cell_type": "markdown",
      "source": [
        "# ***Arithmetic Operations***"
      ],
      "metadata": {
        "id": "Tz2JcH7BNjCH"
      }
    },
    {
      "cell_type": "code",
      "source": [
        "y1 = tensor @ tensor.T #T means gets the transpose of the tensor\n",
        "y1.shape"
      ],
      "metadata": {
        "colab": {
          "base_uri": "https://localhost:8080/"
        },
        "id": "gKbqJx1JNns9",
        "outputId": "be945be1-61bb-4ee8-c0b0-41b82a9abf1d"
      },
      "execution_count": 7,
      "outputs": [
        {
          "output_type": "execute_result",
          "data": {
            "text/plain": [
              "torch.Size([5, 5])"
            ]
          },
          "metadata": {},
          "execution_count": 7
        }
      ]
    },
    {
      "cell_type": "code",
      "source": [
        "#or another way for calling matrix mult.\n",
        "y1 = tensor @ tensor.T\n",
        "y1.shape\n",
        "y1 = tensor.matmul(tensor.T)\n",
        "\n",
        "torch.matmul(tensor,tensor.T,out=y1)"
      ],
      "metadata": {
        "colab": {
          "base_uri": "https://localhost:8080/"
        },
        "id": "4hag-AuHN9he",
        "outputId": "9cc2b115-b9ec-4c30-81e8-514b7c09e77e"
      },
      "execution_count": 10,
      "outputs": [
        {
          "output_type": "execute_result",
          "data": {
            "text/plain": [
              "tensor([[2.5357, 2.2375, 1.7948, 2.7332, 1.0527],\n",
              "        [2.2375, 2.7998, 2.3483, 2.8661, 0.9802],\n",
              "        [1.7948, 2.3483, 2.6312, 2.8832, 1.2025],\n",
              "        [2.7332, 2.8661, 2.8832, 3.6765, 1.6414],\n",
              "        [1.0527, 0.9802, 1.2025, 1.6414, 1.1167]], device='cuda:0')"
            ]
          },
          "metadata": {},
          "execution_count": 10
        }
      ]
    },
    {
      "cell_type": "code",
      "source": [
        "#elemnet wise matmul\n",
        "y1 = tensor @ tensor.T\n",
        "y1.shape\n",
        "y1 = tensor.matmul(tensor.T)\n",
        "\n",
        "torch.matmul(tensor,tensor.T,out=y1)\n",
        "\n",
        "z1 = tensor * tensor\n",
        "z2 = tensor.mul(tensor)\n",
        "z3 = torch.rand_like(tensor)\n",
        "\n",
        "torch.mul(tensor,tensor,out=z3)"
      ],
      "metadata": {
        "colab": {
          "base_uri": "https://localhost:8080/"
        },
        "id": "y9oEBv9BOXek",
        "outputId": "9e04a521-6c2b-4b55-a066-5535566b3596"
      },
      "execution_count": 13,
      "outputs": [
        {
          "output_type": "execute_result",
          "data": {
            "text/plain": [
              "tensor([[0.4212, 0.2564, 0.1852, 0.6099, 0.9451, 0.0982, 0.0197],\n",
              "        [0.3408, 0.5822, 0.3492, 0.7001, 0.0763, 0.6768, 0.0744],\n",
              "        [0.1372, 0.7871, 0.7044, 0.3983, 0.0048, 0.0670, 0.5325],\n",
              "        [0.5185, 0.7914, 0.5675, 0.6186, 0.4721, 0.1009, 0.6075],\n",
              "        [0.2522, 0.0502, 0.0323, 0.0058, 0.1323, 0.0011, 0.6429]],\n",
              "       device='cuda:0')"
            ]
          },
          "metadata": {},
          "execution_count": 13
        }
      ]
    },
    {
      "cell_type": "code",
      "source": [
        "#Global Aggregession\n",
        "\n",
        "agg = tensor.sum()\n",
        "agg_item = agg.item()\n",
        "agg_item"
      ],
      "metadata": {
        "colab": {
          "base_uri": "https://localhost:8080/"
        },
        "id": "de6KH0qOPGe2",
        "outputId": "4d03ac00-bbcf-4845-83ae-4773705867e1"
      },
      "execution_count": 16,
      "outputs": [
        {
          "output_type": "execute_result",
          "data": {
            "text/plain": [
              "18.838586807250977"
            ]
          },
          "metadata": {},
          "execution_count": 16
        }
      ]
    },
    {
      "cell_type": "code",
      "source": [
        "print(tensor)\n",
        "tensor.add_(1)"
      ],
      "metadata": {
        "colab": {
          "base_uri": "https://localhost:8080/"
        },
        "id": "1ejZgYEBPgq0",
        "outputId": "87e4bbce-b58d-4fb8-fa98-2b5c290d6c3c"
      },
      "execution_count": 17,
      "outputs": [
        {
          "output_type": "stream",
          "name": "stdout",
          "text": [
            "tensor([[0.6490, 0.5064, 0.4304, 0.7809, 0.9722, 0.3133, 0.1405],\n",
            "        [0.5837, 0.7631, 0.5909, 0.8367, 0.2762, 0.8227, 0.2728],\n",
            "        [0.3704, 0.8872, 0.8393, 0.6311, 0.0694, 0.2588, 0.7297],\n",
            "        [0.7201, 0.8896, 0.7533, 0.7865, 0.6871, 0.3177, 0.7794],\n",
            "        [0.5022, 0.2240, 0.1796, 0.0763, 0.3637, 0.0327, 0.8018]],\n",
            "       device='cuda:0')\n"
          ]
        },
        {
          "output_type": "execute_result",
          "data": {
            "text/plain": [
              "tensor([[1.6490, 1.5064, 1.4304, 1.7809, 1.9722, 1.3133, 1.1405],\n",
              "        [1.5837, 1.7631, 1.5909, 1.8367, 1.2762, 1.8227, 1.2728],\n",
              "        [1.3704, 1.8872, 1.8393, 1.6311, 1.0694, 1.2588, 1.7297],\n",
              "        [1.7201, 1.8896, 1.7533, 1.7865, 1.6871, 1.3177, 1.7794],\n",
              "        [1.5022, 1.2240, 1.1796, 1.0763, 1.3637, 1.0327, 1.8018]],\n",
              "       device='cuda:0')"
            ]
          },
          "metadata": {},
          "execution_count": 17
        }
      ]
    },
    {
      "cell_type": "markdown",
      "source": [
        "# ***Bridge with numpy***"
      ],
      "metadata": {
        "id": "bq9v-hHIP0Xl"
      }
    },
    {
      "cell_type": "markdown",
      "source": [
        "Tensor to NumPy array"
      ],
      "metadata": {
        "id": "hllztq4SP56z"
      }
    },
    {
      "cell_type": "code",
      "source": [
        "tensor = tensor.to('cpu')\n",
        "n = tensor.numpy()\n",
        "n"
      ],
      "metadata": {
        "colab": {
          "base_uri": "https://localhost:8080/"
        },
        "id": "WOLbBogCP9kT",
        "outputId": "b333acf5-c250-42e2-829a-b8f3d49cf459"
      },
      "execution_count": 20,
      "outputs": [
        {
          "output_type": "execute_result",
          "data": {
            "text/plain": [
              "array([[1.6489875, 1.506378 , 1.430376 , 1.7809309, 1.9721563, 1.3133011,\n",
              "        1.1404877],\n",
              "       [1.5837421, 1.763051 , 1.590944 , 1.8366942, 1.2761862, 1.822664 ,\n",
              "        1.2728182],\n",
              "       [1.3704386, 1.8871831, 1.8392572, 1.6310871, 1.0694358, 1.2587731,\n",
              "        1.7297072],\n",
              "       [1.7200725, 1.8895813, 1.7533314, 1.7865207, 1.6870762, 1.3176675,\n",
              "        1.7794142],\n",
              "       [1.5022349, 1.2239527, 1.1796087, 1.0763142, 1.363676 , 1.0327041,\n",
              "        1.8018324]], dtype=float32)"
            ]
          },
          "metadata": {},
          "execution_count": 20
        }
      ]
    },
    {
      "cell_type": "code",
      "source": [
        "print(tensor)\n",
        "print(n)"
      ],
      "metadata": {
        "colab": {
          "base_uri": "https://localhost:8080/"
        },
        "id": "ovFDznisQlZ0",
        "outputId": "21337eca-4f43-440d-dd2d-eb504021ed41"
      },
      "execution_count": 22,
      "outputs": [
        {
          "output_type": "stream",
          "name": "stdout",
          "text": [
            "tensor([[1.6490, 1.5064, 1.4304, 1.7809, 1.9722, 1.3133, 1.1405],\n",
            "        [1.5837, 1.7631, 1.5909, 1.8367, 1.2762, 1.8227, 1.2728],\n",
            "        [1.3704, 1.8872, 1.8393, 1.6311, 1.0694, 1.2588, 1.7297],\n",
            "        [1.7201, 1.8896, 1.7533, 1.7865, 1.6871, 1.3177, 1.7794],\n",
            "        [1.5022, 1.2240, 1.1796, 1.0763, 1.3637, 1.0327, 1.8018]])\n",
            "[[1.6489875 1.506378  1.430376  1.7809309 1.9721563 1.3133011 1.1404877]\n",
            " [1.5837421 1.763051  1.590944  1.8366942 1.2761862 1.822664  1.2728182]\n",
            " [1.3704386 1.8871831 1.8392572 1.6310871 1.0694358 1.2587731 1.7297072]\n",
            " [1.7200725 1.8895813 1.7533314 1.7865207 1.6870762 1.3176675 1.7794142]\n",
            " [1.5022349 1.2239527 1.1796087 1.0763142 1.363676  1.0327041 1.8018324]]\n"
          ]
        }
      ]
    },
    {
      "cell_type": "code",
      "source": [
        "#change tensor\n",
        "tensor.add_(5)\n",
        "print(tensor)\n",
        "print(n)"
      ],
      "metadata": {
        "colab": {
          "base_uri": "https://localhost:8080/"
        },
        "id": "_l3Ek8UxQw8D",
        "outputId": "8594b88b-d46a-4cdf-c5c6-333fd3f4affe"
      },
      "execution_count": 24,
      "outputs": [
        {
          "output_type": "stream",
          "name": "stdout",
          "text": [
            "tensor([[11.6490, 11.5064, 11.4304, 11.7809, 11.9722, 11.3133, 11.1405],\n",
            "        [11.5837, 11.7631, 11.5909, 11.8367, 11.2762, 11.8227, 11.2728],\n",
            "        [11.3704, 11.8872, 11.8393, 11.6311, 11.0694, 11.2588, 11.7297],\n",
            "        [11.7201, 11.8896, 11.7533, 11.7865, 11.6871, 11.3177, 11.7794],\n",
            "        [11.5022, 11.2240, 11.1796, 11.0763, 11.3637, 11.0327, 11.8018]])\n",
            "[[11.648988 11.506378 11.430376 11.780931 11.972157 11.313301 11.140488]\n",
            " [11.583742 11.763051 11.590944 11.836695 11.276186 11.822664 11.272818]\n",
            " [11.370439 11.887183 11.839257 11.631087 11.069436 11.258773 11.729708]\n",
            " [11.720073 11.889582 11.753331 11.786521 11.687077 11.317667 11.779414]\n",
            " [11.502235 11.223953 11.179609 11.076314 11.363676 11.032704 11.801832]]\n"
          ]
        }
      ]
    },
    {
      "cell_type": "markdown",
      "source": [
        "*Numpy array to Tensor*"
      ],
      "metadata": {
        "id": "8VqtLwnKQ_JM"
      }
    },
    {
      "cell_type": "code",
      "source": [
        "#ndarray\n",
        "n = np.ones(5)\n",
        "n"
      ],
      "metadata": {
        "colab": {
          "base_uri": "https://localhost:8080/"
        },
        "id": "43sHRZBPRDsM",
        "outputId": "811d1d08-9a9e-4c07-ac9f-85f508695dd3"
      },
      "execution_count": 27,
      "outputs": [
        {
          "output_type": "execute_result",
          "data": {
            "text/plain": [
              "array([1., 1., 1., 1., 1.])"
            ]
          },
          "metadata": {},
          "execution_count": 27
        }
      ]
    },
    {
      "cell_type": "code",
      "source": [
        "#tensor\n",
        "t = torch.from_numpy(n)\n",
        "t"
      ],
      "metadata": {
        "colab": {
          "base_uri": "https://localhost:8080/"
        },
        "id": "M2xERXvMRHwc",
        "outputId": "4b06eec8-ccd4-48de-e4b3-41f51abacbe5"
      },
      "execution_count": 28,
      "outputs": [
        {
          "output_type": "execute_result",
          "data": {
            "text/plain": [
              "tensor([1., 1., 1., 1., 1.], dtype=torch.float64)"
            ]
          },
          "metadata": {},
          "execution_count": 28
        }
      ]
    }
  ]
}